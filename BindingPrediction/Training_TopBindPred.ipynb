{
 "cells": [
  {
   "cell_type": "code",
   "execution_count": 1,
   "metadata": {},
   "outputs": [],
   "source": [
    "from gtda import *\n",
    "import pandas as pd\n",
    "import numpy as np\n",
    "from tqdm import tqdm"
   ]
  },
  {
   "cell_type": "code",
   "execution_count": 2,
   "metadata": {},
   "outputs": [],
   "source": [
    "aa_properties = {'PHE': [1, 165.19, 147.18, 1.83, 9.13, 5.48 ], \n",
    "               'LEU': [0.943, 131.18, 113.16, 2.36, 9.60, 5.98],\n",
    "               'ILE': [0.943, 131.18, 113.16, 2.36, 9.60, 6.02],\n",
    "               'TYR': [0.880, 181.19, 163.18, 2.20, 9.11, 5.66], \n",
    "               'TRP': [0.878, 204.23, 186.22, 2.83, 9.39, 5.89],\n",
    "               'VAL': [0.825, 117.15, 99.13, 2.32, 9.62, 5.96],\n",
    "               'MET': [0.738, 149.21, 131.20, 2.28, 9.21, 5.74],\n",
    "               'PRO': [0.711, 115.13, 97.12, 1.99, 10.60, 6.30],\n",
    "               'CYS': [0.680, 121.16, 103.15, 1.96, 10.28, 5.07],\n",
    "               'ALA': [0.616, 89.10, 71.08, 2.34, 9.69, 6.00],\n",
    "               'GLY': [0.501, 75.07, 57.05, 2.34, 9.60, 5.97],\n",
    "               'THR': [0.450, 119.12, 101.11, 2.09, 9.10, 5.60],\n",
    "               'SER': [0.359, 105.09, 87.08, 2.21, 9.15, 5.68],\n",
    "               'LYS': [0.283, 146.19, 128.18, 2.18, 8.95, 9.74],\n",
    "               'GLN': [0.251, 146.15, 128.13, 2.17, 9.13, 5.65],\n",
    "               'ASN': [0.236, 132.12, 114.11, 2.02, 8.80, 5.41],\n",
    "               'HIS': [0.165, 155.16, 137.14, 1.82, 9.17, 7.59],\n",
    "               'GLU': [0.043, 147.13, 129.12, 2.19, 9.67, 3.22],\n",
    "               'ASP': [0.028, 133.11, 115.09, 1.88, 9.60, 2.77],\n",
    "               'ARG': [0, 174.20, 156.19, 2.17, 9.04, 10.76]} \n",
    "#Values found on https://www.sigmaaldrich.com/life-science/metabolomics/learning-center/amino-acid-reference-chart.html\n",
    "#and https://www.cgl.ucsf.edu/chimera/docs/UsersGuide/midas/hydrophob.html "
   ]
  },
  {
   "cell_type": "code",
   "execution_count": 3,
   "metadata": {},
   "outputs": [],
   "source": [
    "import time\n",
    "\n",
    "aa3 = \"ALA CYS ASP GLU PHE GLY HIS ILE LYS LEU MET ASN PRO GLN ARG SER THR VAL TRP TYR\".split()\n",
    "\n",
    "#Transform aa into onehot\n",
    "df = pd.read_pickle('protdiag_30.pkl')\n",
    "df['hydrophobicity'] = df.amino_acid.apply(lambda x: aa_properties[x][0])\n",
    "df['MolecularWeight'] = df.amino_acid.apply(lambda x: aa_properties[x][1])\n",
    "df['ResidueWeight'] = df.amino_acid.apply(lambda x: aa_properties[x][2])\n",
    "df['pKa'] = df.amino_acid.apply(lambda x: aa_properties[x][3])\n",
    "df['pKb'] = df.amino_acid.apply(lambda x: aa_properties[x][4])\n",
    "df['pl'] = df.amino_acid.apply(lambda x: aa_properties[x][5])\n",
    "\n",
    "df.amino_acid = df.amino_acid.astype('category')\n",
    "df.amino_acid.cat.set_categories(aa3)\n",
    "df.site = df.site.astype('int')\n",
    "onehot = pd.get_dummies(df.amino_acid)\n",
    "df = df.join(onehot)\n",
    "\n",
    "\n",
    "ind = df.index.unique(level=0)\n",
    "\n",
    "validation_df = df.loc[ind[4000:4100]]\n",
    "df = pd.concat((df[df['site'] == 1].iloc[:1000],df[df['site'] == 0].iloc[:1000]))\n",
    "\n",
    "\n"
   ]
  },
  {
   "cell_type": "code",
   "execution_count": 4,
   "metadata": {},
   "outputs": [
    {
     "data": {
      "text/plain": [
       "0.5"
      ]
     },
     "execution_count": 4,
     "metadata": {},
     "output_type": "execute_result"
    }
   ],
   "source": [
    "df[df['site']==1].size/ df.size"
   ]
  },
  {
   "cell_type": "code",
   "execution_count": 5,
   "metadata": {},
   "outputs": [
    {
     "name": "stdout",
     "output_type": "stream",
     "text": [
      "4.529675483703613 s\n",
      "0.31560301780700684 s\n"
     ]
    }
   ],
   "source": [
    "start_time = time.time()\n",
    "pe = diagrams.PersistenceEntropy(\n",
    "    normalize=True,\n",
    "    n_jobs=-1\n",
    ")\n",
    "\n",
    "pers_feat = pe.fit_transform(np.stack(df['persistence'].to_numpy()) )\n",
    "\n",
    "end_time = time.time()\n",
    "print(end_time - start_time, 's')\n",
    "\n",
    "df['entropy_0'] = pers_feat[:,0]\n",
    "df['entropy_1'] = pers_feat[:,1]\n",
    "df['entropy_2'] = pers_feat[:,2]\n",
    "del pers_feat\n",
    "\n",
    "\n",
    "start_time = time.time()\n",
    "pe = diagrams.PersistenceEntropy(\n",
    "    normalize=True,\n",
    "    n_jobs=-1\n",
    ")\n",
    "\n",
    "pers_feat = pe.fit_transform(np.stack(validation_df['persistence'].to_numpy()) )\n",
    "\n",
    "end_time = time.time()\n",
    "print(end_time - start_time, 's')\n",
    "\n",
    "validation_df['entropy_0'] = pers_feat[:,0]\n",
    "validation_df['entropy_1'] = pers_feat[:,1]\n",
    "validation_df['entropy_2'] = pers_feat[:,2]\n",
    "del pers_feat"
   ]
  },
  {
   "cell_type": "code",
   "execution_count": 6,
   "metadata": {},
   "outputs": [
    {
     "name": "stdout",
     "output_type": "stream",
     "text": [
      "0.052678823471069336 s\n",
      "0.48298192024230957 s\n"
     ]
    }
   ],
   "source": [
    "start_time = time.time()\n",
    "amp1 = diagrams.Amplitude(metric='wasserstein', n_jobs=-1)\n",
    "\n",
    "amp1_feat = amp1.fit_transform(np.stack(df['persistence'].to_numpy()))\n",
    "\n",
    "end_time = time.time()\n",
    "print(end_time - start_time, 's')\n",
    "\n",
    "df['amp1_0'] = amp1_feat[:, 0]\n",
    "df['amp1_1'] = amp1_feat[:, 1]\n",
    "df['amp1_2'] = amp1_feat[:, 2]\n",
    "del amp1_feat\n",
    "\n",
    "start_time = time.time()\n",
    "amp1 = diagrams.Amplitude(metric='wasserstein', n_jobs=-1)\n",
    "\n",
    "amp1_feat = amp1.fit_transform(np.stack(validation_df['persistence'].to_numpy()))\n",
    "\n",
    "end_time = time.time()\n",
    "print(end_time - start_time, 's')\n",
    "\n",
    "validation_df['amp1_0'] = amp1_feat[:, 0]\n",
    "validation_df['amp1_1'] = amp1_feat[:, 1]\n",
    "validation_df['amp1_2'] = amp1_feat[:, 2]\n",
    "del amp1_feat"
   ]
  },
  {
   "cell_type": "code",
   "execution_count": 7,
   "metadata": {},
   "outputs": [
    {
     "name": "stdout",
     "output_type": "stream",
     "text": [
      "0.05884289741516113 s\n",
      "0.5818626880645752 s\n"
     ]
    }
   ],
   "source": [
    "start_time = time.time()\n",
    "\n",
    "amp2 = diagrams.Amplitude(metric='bottleneck', n_jobs=-1)\n",
    "\n",
    "amp2_feat = amp2.fit_transform(np.stack(df['persistence'].to_numpy()))\n",
    "\n",
    "end_time = time.time()\n",
    "print(end_time - start_time, 's')\n",
    "\n",
    "df['amp2_0'] = amp2_feat[:, 0]\n",
    "df['amp2_1'] = amp2_feat[:, 1]\n",
    "df['amp2_2'] = amp2_feat[:, 2]\n",
    "\n",
    "del amp2_feat\n",
    "\n",
    "start_time = time.time()\n",
    "\n",
    "amp2 = diagrams.Amplitude(metric='bottleneck', n_jobs=-1)\n",
    "\n",
    "amp2_feat = amp2.fit_transform(np.stack(validation_df['persistence'].to_numpy()))\n",
    "\n",
    "end_time = time.time()\n",
    "print(end_time - start_time, 's')\n",
    "\n",
    "validation_df['amp2_0'] = amp2_feat[:, 0]\n",
    "validation_df['amp2_1'] = amp2_feat[:, 1]\n",
    "validation_df['amp2_2'] = amp2_feat[:, 2]\n",
    "\n",
    "del amp2_feat"
   ]
  },
  {
   "cell_type": "code",
   "execution_count": 8,
   "metadata": {},
   "outputs": [
    {
     "name": "stdout",
     "output_type": "stream",
     "text": [
      "0.07872724533081055 s\n",
      "1.246063470840454 s\n"
     ]
    }
   ],
   "source": [
    "start_time = time.time()\n",
    "\n",
    "amp3 = diagrams.Amplitude(metric='landscape', n_jobs=-1)\n",
    "\n",
    "\n",
    "amp3_feat = amp3.fit_transform(np.stack(df['persistence'].to_numpy()))\n",
    "\n",
    "end_time = time.time()\n",
    "print(end_time - start_time, 's')\n",
    "\n",
    "df['amp3_0'] = amp3_feat[:, 0]\n",
    "df['amp3_1'] = amp3_feat[:, 1]\n",
    "df['amp3_2'] = amp3_feat[:, 2]\n",
    "\n",
    "del amp3_feat\n",
    "\n",
    "start_time = time.time()\n",
    "\n",
    "amp3 = diagrams.Amplitude(metric='landscape', n_jobs=-1)\n",
    "\n",
    "\n",
    "amp3_feat = amp3.fit_transform(np.stack(validation_df['persistence'].to_numpy()))\n",
    "\n",
    "end_time = time.time()\n",
    "print(end_time - start_time, 's')\n",
    "\n",
    "validation_df['amp3_0'] = amp3_feat[:, 0]\n",
    "validation_df['amp3_1'] = amp3_feat[:, 1]\n",
    "validation_df['amp3_2'] = amp3_feat[:, 2]\n",
    "\n",
    "del amp3_feat"
   ]
  },
  {
   "cell_type": "code",
   "execution_count": 9,
   "metadata": {},
   "outputs": [
    {
     "name": "stdout",
     "output_type": "stream",
     "text": [
      "0.05902433395385742 s\n",
      "0.6394908428192139 s\n"
     ]
    }
   ],
   "source": [
    "start_time = time.time()\n",
    "\n",
    "amp4 = diagrams.Amplitude(metric='betti', n_jobs=-1)\n",
    "\n",
    "amp4_feat = amp4.fit_transform(np.stack(df['persistence'].to_numpy()))\n",
    "\n",
    "\n",
    "end_time = time.time()\n",
    "print(end_time - start_time, 's')\n",
    "\n",
    "df['amp4_0'] = amp4_feat[:, 0]\n",
    "df['amp4_1'] = amp4_feat[:, 1]\n",
    "df['amp4_2'] = amp4_feat[:, 2]\n",
    "\n",
    "del amp4\n",
    "\n",
    "start_time = time.time()\n",
    "\n",
    "amp4 = diagrams.Amplitude(metric='betti', n_jobs=-1)\n",
    "\n",
    "amp4_feat = amp4.fit_transform(np.stack(validation_df['persistence'].to_numpy()))\n",
    "\n",
    "\n",
    "end_time = time.time()\n",
    "print(end_time - start_time, 's')\n",
    "\n",
    "validation_df['amp4_0'] = amp4_feat[:, 0]\n",
    "validation_df['amp4_1'] = amp4_feat[:, 1]\n",
    "validation_df['amp4_2'] = amp4_feat[:, 2]\n",
    "\n",
    "del amp4"
   ]
  },
  {
   "cell_type": "code",
   "execution_count": 10,
   "metadata": {},
   "outputs": [
    {
     "name": "stdout",
     "output_type": "stream",
     "text": [
      "0.08218741416931152 s\n",
      "1.3183023929595947 s\n"
     ]
    }
   ],
   "source": [
    "start_time = time.time()\n",
    "\n",
    "pnts = diagrams.NumberOfPoints( n_jobs=-1)\n",
    "\n",
    "pnts_feat = pnts.fit_transform(np.stack(df['persistence'].to_numpy()))\n",
    "\n",
    "\n",
    "end_time = time.time()\n",
    "print(end_time - start_time, 's')\n",
    "\n",
    "df['pnts_0'] = pnts_feat[:, 0]\n",
    "df['pnts_1'] = pnts_feat[:, 1]\n",
    "df['pnts_2'] = pnts_feat[:, 2]\n",
    "\n",
    "del pnts\n",
    "\n",
    "start_time = time.time()\n",
    "\n",
    "pnts = diagrams.NumberOfPoints( n_jobs=-1)\n",
    "\n",
    "pnts_feat = pnts.fit_transform(np.stack(validation_df['persistence'].to_numpy()))\n",
    "\n",
    "\n",
    "end_time = time.time()\n",
    "print(end_time - start_time, 's')\n",
    "\n",
    "validation_df['pnts_0'] = pnts_feat[:, 0]\n",
    "validation_df['pnts_1'] = pnts_feat[:, 1]\n",
    "validation_df['pnts_2'] = pnts_feat[:, 2]\n",
    "\n",
    "del pnts"
   ]
  },
  {
   "cell_type": "code",
   "execution_count": 27,
   "metadata": {},
   "outputs": [],
   "source": [
    "from sklearn import preprocessing\n",
    "from sklearn.model_selection import train_test_split\n",
    "\n",
    "features = ['hydrophobicity',\n",
    "            'entropy_0', 'entropy_1', 'entropy_2',\n",
    "            'amp1_0','amp1_1', 'amp1_2',\n",
    "            'amp2_0','amp2_1', 'amp2_2',\n",
    "            'amp3_0','amp3_1', 'amp3_2',\n",
    "            'amp4_0','amp4_1', 'amp4_2',\n",
    "            'pnts_0', 'pnts_1', 'pnts_2', 'MolecularWeight', 'ResidueWeight', 'pKa', 'pKb', 'pl'] + aa3\n",
    "\n",
    "\n",
    "\n",
    "X = df[features].values\n",
    "Y = df['site'].values\n",
    "\n",
    "X_train, X_test, Y_train, Y_test = train_test_split( X, Y, test_size=0.20, random_state=42)\n",
    "\n",
    "scaler = preprocessing.StandardScaler().fit(X_train)\n",
    "X_train = scaler.transform(X_train)\n",
    "X_test = scaler.transform(X_test)\n"
   ]
  },
  {
   "cell_type": "code",
   "execution_count": 28,
   "metadata": {},
   "outputs": [],
   "source": [
    "\n",
    "from sklearn.svm import SVC\n",
    "from sklearn.calibration import CalibratedClassifierCV\n",
    "from sklearn.ensemble import RandomForestClassifier\n",
    "from sklearn.neighbors import KNeighborsClassifier\n",
    "\n",
    "\n",
    "#classifier = LinearSVC()\n",
    "#classifier = SVC(max_iter=10000, probability=True)\n",
    "\n",
    "#Random forest\n",
    "#classifier =  RandomForestClassifier(max_depth=1000, random_state=0)\n",
    "\n",
    "#K-nearest neghbour\n",
    "#classifier = KNeighborsClassifier(n_neighbors=1000)\n",
    "\n",
    "#Naive Bayes\n",
    "from sklearn.naive_bayes import GaussianNB\n",
    "#classifier = GaussianNB()\n",
    "\n",
    "\n",
    "from sklearn.ensemble import AdaBoostClassifier\n",
    "#classifier = AdaBoostClassifier(n_estimators=100, random_state=0)\n",
    "\n",
    "from sklearn.ensemble import GradientBoostingClassifier\n",
    "#classifier = GradientBoostingClassifier(n_estimators=100, learning_rate=1.0, max_depth=1, random_state=0)\n",
    "\n",
    "from sklearn.ensemble import BaggingClassifier\n",
    "classifier = BaggingClassifier(base_estimator=SVC(),n_estimators=10, random_state=0)"
   ]
  },
  {
   "cell_type": "code",
   "execution_count": 29,
   "metadata": {},
   "outputs": [
    {
     "name": "stdout",
     "output_type": "stream",
     "text": [
      "0.620685338973999\n"
     ]
    }
   ],
   "source": [
    "start = time.time()\n",
    "\n",
    "\n",
    "\n",
    "\n",
    "classifier.fit(X_train, Y_train)\n",
    "end = time.time()\n",
    "\n",
    "print(end - start)"
   ]
  },
  {
   "cell_type": "code",
   "execution_count": 30,
   "metadata": {},
   "outputs": [
    {
     "data": {
      "text/plain": [
       "0.6625"
      ]
     },
     "execution_count": 30,
     "metadata": {},
     "output_type": "execute_result"
    }
   ],
   "source": [
    "(classifier.predict(X_test) == Y_test).mean()"
   ]
  },
  {
   "cell_type": "code",
   "execution_count": 31,
   "metadata": {},
   "outputs": [
    {
     "data": {
      "text/plain": [
       "<matplotlib.legend.Legend at 0x7fbd97b72898>"
      ]
     },
     "execution_count": 31,
     "metadata": {},
     "output_type": "execute_result"
    },
    {
     "data": {
      "image/png": "[encoded data removed]",
      "text/plain": [
       "<Figure size 432x288 with 1 Axes>"
      ]
     },
     "metadata": {
      "needs_background": "light"
     },
     "output_type": "display_data"
    }
   ],
   "source": [
    "from matplotlib import pyplot as plt\n",
    "\n",
    "plt.hist(classifier.predict_proba(X_test[Y_test==0])[:, 1], bins=20, alpha=0.5, label='not_binding')\n",
    "\n",
    "plt.hist(classifier.predict_proba(X_test[Y_test==1])[:,1], bins=20, alpha=0.5, label='binding_site')\n",
    "\n",
    "plt.legend()"
   ]
  },
  {
   "cell_type": "code",
   "execution_count": 32,
   "metadata": {},
   "outputs": [],
   "source": [
    "validation_df['old_prob'] = classifier.predict_proba(scaler.transform(validation_df[features].values))[:, 1]\n"
   ]
  },
  {
   "cell_type": "code",
   "execution_count": 33,
   "metadata": {},
   "outputs": [
    {
     "name": "stderr",
     "output_type": "stream",
     "text": [
      "/home/maths/phufwh/myenv/lib64/python3.6/site-packages/ipykernel_launcher.py:2: SettingWithCopyWarning:\n",
      "\n",
      "\n",
      "A value is trying to be set on a copy of a slice from a DataFrame.\n",
      "Try using .loc[row_indexer,col_indexer] = value instead\n",
      "\n",
      "See the caveats in the documentation: https://pandas.pydata.org/pandas-docs/stable/user_guide/indexing.html#returning-a-view-versus-a-copy\n",
      "\n"
     ]
    },
    {
     "data": {
      "text/plain": [
       "(0.11723440936924083, 0.5818825612275007)"
      ]
     },
     "execution_count": 33,
     "metadata": {},
     "output_type": "execute_result"
    }
   ],
   "source": [
    "results = validation_df[['site', 'old_prob']]\n",
    "results['pred'] = (results.loc[:,'old_prob'] > 0.5).apply(lambda x : int(x))\n",
    "\n",
    "precision = (results[results.pred == 1]['pred'] == results[results.pred == 1]['site']).mean()\n",
    "\n",
    "recall = (results[results.site == 1]['pred'] == results[results.site == 1]['site']).mean()\n",
    "\n",
    "\n",
    "precision, recall"
   ]
  },
  {
   "cell_type": "code",
   "execution_count": null,
   "metadata": {},
   "outputs": [],
   "source": []
  },
  {
   "cell_type": "code",
   "execution_count": 34,
   "metadata": {},
   "outputs": [
    {
     "name": "stderr",
     "output_type": "stream",
     "text": [
      "  0%|          | 0/100 [00:00<?, ?it/s]/home/maths/phufwh/myenv/lib64/python3.6/site-packages/ipykernel_launcher.py:5: SettingWithCopyWarning:\n",
      "\n",
      "\n",
      "A value is trying to be set on a copy of a slice from a DataFrame.\n",
      "Try using .loc[row_indexer,col_indexer] = value instead\n",
      "\n",
      "See the caveats in the documentation: https://pandas.pydata.org/pandas-docs/stable/user_guide/indexing.html#returning-a-view-versus-a-copy\n",
      "\n",
      "/home/maths/phufwh/myenv/lib64/python3.6/site-packages/ipykernel_launcher.py:11: SettingWithCopyWarning:\n",
      "\n",
      "\n",
      "A value is trying to be set on a copy of a slice from a DataFrame.\n",
      "Try using .loc[row_indexer,col_indexer] = value instead\n",
      "\n",
      "See the caveats in the documentation: https://pandas.pydata.org/pandas-docs/stable/user_guide/indexing.html#returning-a-view-versus-a-copy\n",
      "\n",
      "100%|██████████| 100/100 [01:34<00:00,  1.06it/s]\n"
     ]
    }
   ],
   "source": [
    "newvalidation_df = pd.DataFrame()\n",
    "def smooth(res):\n",
    "\n",
    "    center = small_test.loc[res, ['x', 'y', 'z']].to_numpy()\n",
    "    small_test['weight'] = np.exp(-((small_test.loc[:,'x'] - center[0])**2 + (small_test.loc[:,'y'] - center[1])**2 + (small_test.loc[:, 'z'] - center[2])**2) / 30)\n",
    "    return (small_test['weight']*small_test['old_prob']).sum()/(small_test['weight'].to_numpy().sum())\n",
    "    \n",
    "\n",
    "for prot in tqdm(validation_df.index.unique(level=0)):\n",
    "    small_test= validation_df.loc[prot]    \n",
    "    small_test['new_prob'] = small_test.loc[:,'res_num'].apply(smooth)\n",
    "    newvalidation_df = newvalidation_df.append(small_test)"
   ]
  },
  {
   "cell_type": "code",
   "execution_count": 35,
   "metadata": {},
   "outputs": [
    {
     "name": "stderr",
     "output_type": "stream",
     "text": [
      "/home/maths/phufwh/myenv/lib64/python3.6/site-packages/ipykernel_launcher.py:2: SettingWithCopyWarning:\n",
      "\n",
      "\n",
      "A value is trying to be set on a copy of a slice from a DataFrame.\n",
      "Try using .loc[row_indexer,col_indexer] = value instead\n",
      "\n",
      "See the caveats in the documentation: https://pandas.pydata.org/pandas-docs/stable/user_guide/indexing.html#returning-a-view-versus-a-copy\n",
      "\n"
     ]
    },
    {
     "data": {
      "text/plain": [
       "(0.1289541918755402, 0.6603717910888167)"
      ]
     },
     "execution_count": 35,
     "metadata": {},
     "output_type": "execute_result"
    }
   ],
   "source": [
    "results = newvalidation_df[['site', 'new_prob']]\n",
    "results['pred'] = (results.loc[:,'new_prob'] > 0.5).apply(lambda x : int(x))\n",
    "\n",
    "precision = (results[results.pred == 1]['pred'] == results[results.pred == 1]['site']).mean()\n",
    "\n",
    "recall = (results[results.site == 1]['pred'] == results[results.site == 1]['site']).mean()\n",
    "\n",
    "\n",
    "precision, recall"
   ]
  },
  {
   "cell_type": "code",
   "execution_count": 20,
   "metadata": {},
   "outputs": [
    {
     "data": {
      "text/plain": [
       "<matplotlib.legend.Legend at 0x7fbe0a880da0>"
      ]
     },
     "execution_count": 20,
     "metadata": {},
     "output_type": "execute_result"
    },
    {
     "data": {
      "image/png": "[encoded data removed]",
      "text/plain": [
       "<Figure size 432x288 with 1 Axes>"
      ]
     },
     "metadata": {
      "needs_background": "light"
     },
     "output_type": "display_data"
    }
   ],
   "source": [
    "from matplotlib import pyplot as plt\n",
    "\n",
    "plt.hist(validation_df[validation_df['site'] == 0]['old_prob'], bins=10, alpha=0.5, label='not_binding')\n",
    "\n",
    "plt.hist(validation_df[validation_df['site'] == 1]['old_prob'], bins=10, alpha=0.5, label='binding_site')\n",
    "\n",
    "plt.legend()"
   ]
  },
  {
   "cell_type": "code",
   "execution_count": 21,
   "metadata": {},
   "outputs": [
    {
     "name": "stdout",
     "output_type": "stream",
     "text": [
      "0.5012502137957638\n",
      "0.5016323322664268\n"
     ]
    },
    {
     "data": {
      "text/plain": [
       "<matplotlib.legend.Legend at 0x7fbdeaa02e80>"
      ]
     },
     "execution_count": 21,
     "metadata": {},
     "output_type": "execute_result"
    },
    {
     "data": {
      "image/png": "[encoded data removed]",
      "text/plain": [
       "<Figure size 432x288 with 1 Axes>"
      ]
     },
     "metadata": {
      "needs_background": "light"
     },
     "output_type": "display_data"
    }
   ],
   "source": [
    "from matplotlib import pyplot as plt\n",
    "\n",
    "a = newvalidation_df[newvalidation_df['site'] == 0]['new_prob']\n",
    "print(a.mean())\n",
    "b = newvalidation_df[newvalidation_df['site'] == 1]['new_prob']\n",
    "print(b.mean())\n",
    "plt.hist(newvalidation_df[newvalidation_df['site'] == 0]['new_prob'], bins=10, alpha=0.5, label='not_binding')\n",
    "plt.hist(newvalidation_df[newvalidation_df['site'] == 1]['new_prob'], bins=10, alpha=0.5, label='binding_site')\n",
    "\n",
    "plt.legend()\n",
    "\n"
   ]
  },
  {
   "cell_type": "code",
   "execution_count": null,
   "metadata": {},
   "outputs": [],
   "source": []
  }
 ],
 "metadata": {
  "kernelspec": {
   "display_name": "Python 3",
   "language": "python",
   "name": "python3"
  },
  "language_info": {
   "codemirror_mode": {
    "name": "ipython",
    "version": 3
   },
   "file_extension": ".py",
   "mimetype": "text/x-python",
   "name": "python",
   "nbconvert_exporter": "python",
   "pygments_lexer": "ipython3",
   "version": "3.6.8"
  }
 },
 "nbformat": 4,
 "nbformat_minor": 4
}
